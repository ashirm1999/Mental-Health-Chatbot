{
  "nbformat": 4,
  "nbformat_minor": 0,
  "metadata": {
    "accelerator": "TPU",
    "colab": {
      "name": "Mental-Health-Chatbot.ipynb",
      "provenance": [],
      "collapsed_sections": []
    },
    "kernelspec": {
      "display_name": "Python 3",
      "language": "python",
      "name": "python3"
    },
    "language_info": {
      "codemirror_mode": {
        "name": "ipython",
        "version": 3
      },
      "file_extension": ".py",
      "mimetype": "text/x-python",
      "name": "python",
      "nbconvert_exporter": "python",
      "pygments_lexer": "ipython3",
      "version": "3.7.3"
    }
  },
  "cells": [
    {
      "cell_type": "code",
      "metadata": {
        "id": "K2TCFx-ujgQj"
      },
      "source": [
        "pip install scikit-plot"
      ],
      "execution_count": null,
      "outputs": []
    },
    {
      "cell_type": "code",
      "metadata": {
        "id": "DcrRdtS7_v7q"
      },
      "source": [
        "pip install twilio"
      ],
      "execution_count": null,
      "outputs": []
    },
    {
      "cell_type": "code",
      "metadata": {
        "id": "tnyDWzwNjWPM"
      },
      "source": [
        "import numpy as np\n",
        "import keras\n",
        "from  keras.preprocessing.text import Tokenizer\n",
        "from keras.preprocessing.sequence import pad_sequences\n",
        "import os\n",
        "import pandas as pd\n",
        "from tensorflow.keras.utils import to_categorical\n",
        "import matplotlib.pyplot as plt\n",
        "from sklearn.metrics import classification_report\n",
        "import scikitplot\n",
        "from scikitplot.metrics import plot_confusion_matrix\n",
        "from keras.models import Sequential\n",
        "from keras.layers import LSTM,Bidirectional,Dense,Embedding,Dropout\n",
        "from nltk.chat.util import Chat\n",
        "from twilio.rest import Client\n",
        "import os"
      ],
      "execution_count": 165,
      "outputs": []
    },
    {
      "cell_type": "code",
      "metadata": {
        "id": "vGNSU5FhjXk5"
      },
      "source": [
        "df_train = pd.read_csv('/content/train.txt', header = None, sep =';', names = ['Text','Sentiment'], encoding='utf-8')\n",
        "df_test = pd.read_csv('/content/test.txt', header = None, sep =';', names = ['Text','Sentiment'], encoding='utf-8')\n",
        "df_val = pd.read_csv('/content/val.txt', header = None, sep=';', names = ['Text','Sentiment'], encoding='utf-8')"
      ],
      "execution_count": 142,
      "outputs": []
    },
    {
      "cell_type": "code",
      "metadata": {
        "id": "b-YtySuajurQ"
      },
      "source": [
        "df_train['Sentiment'] = df_train.Sentiment.replace({'joy':0,'anger':1,'love':2,'sadness':3,'fear':4,'surprise':5})\n",
        "X = df_train['Text']"
      ],
      "execution_count": 143,
      "outputs": []
    },
    {
      "cell_type": "code",
      "metadata": {
        "id": "-OSVMhlnj3YS"
      },
      "source": [
        "tokenizer = Tokenizer(15212, lower = True, oov_token='UNK')\n",
        "tokenizer.fit_on_texts(X)"
      ],
      "execution_count": 144,
      "outputs": []
    },
    {
      "cell_type": "code",
      "metadata": {
        "id": "dDA5Qpolj6ng"
      },
      "source": [
        "X_train = tokenizer.texts_to_sequences(X)\n",
        "X_train_paded = pad_sequences(X_train, maxlen=80, padding='post')"
      ],
      "execution_count": 145,
      "outputs": []
    },
    {
      "cell_type": "code",
      "metadata": {
        "id": "yXxV6HtDj-Kg"
      },
      "source": [
        "Y_train = df_train['Sentiment'].values\n",
        "Y_train_f = to_categorical(Y_train)"
      ],
      "execution_count": 146,
      "outputs": []
    },
    {
      "cell_type": "code",
      "metadata": {
        "colab": {
          "base_uri": "https://localhost:8080/"
        },
        "id": "MjAbDz_-kNd3",
        "outputId": "c7a043e9-8f89-47ae-a880-f734ceb6da3e"
      },
      "source": [
        "model = Sequential()\n",
        "model.add(Embedding(15212,64,input_length=80))\n",
        "model.add(Dropout(0.6))\n",
        "model.add(Bidirectional(LSTM(80,return_sequences=True)))\n",
        "model.add(Bidirectional(LSTM(160)))\n",
        "model.add(Dense(6,activation='softmax'))\n",
        "print(model.summary())"
      ],
      "execution_count": 147,
      "outputs": [
        {
          "output_type": "stream",
          "name": "stdout",
          "text": [
            "Model: \"sequential_8\"\n",
            "_________________________________________________________________\n",
            " Layer (type)                Output Shape              Param #   \n",
            "=================================================================\n",
            " embedding_8 (Embedding)     (None, 80, 64)            973568    \n",
            "                                                                 \n",
            " dropout_8 (Dropout)         (None, 80, 64)            0         \n",
            "                                                                 \n",
            " bidirectional_14 (Bidirecti  (None, 80, 160)          92800     \n",
            " onal)                                                           \n",
            "                                                                 \n",
            " bidirectional_15 (Bidirecti  (None, 320)              410880    \n",
            " onal)                                                           \n",
            "                                                                 \n",
            " dense_8 (Dense)             (None, 6)                 1926      \n",
            "                                                                 \n",
            "=================================================================\n",
            "Total params: 1,479,174\n",
            "Trainable params: 1,479,174\n",
            "Non-trainable params: 0\n",
            "_________________________________________________________________\n",
            "None\n"
          ]
        }
      ]
    },
    {
      "cell_type": "code",
      "metadata": {
        "id": "aY7-LHFakPPH"
      },
      "source": [
        "model.compile(optimizer  ='adam', loss = 'categorical_crossentropy', metrics = ['accuracy'])"
      ],
      "execution_count": 148,
      "outputs": []
    },
    {
      "cell_type": "code",
      "metadata": {
        "colab": {
          "base_uri": "https://localhost:8080/"
        },
        "id": "xCXpHn8vkR35",
        "outputId": "0f53ec3d-f88a-4f35-bb2d-8c962a1a6a20"
      },
      "source": [
        "iterations = model.fit(X_train_paded, Y_train_f, epochs=12)"
      ],
      "execution_count": 149,
      "outputs": [
        {
          "output_type": "stream",
          "name": "stdout",
          "text": [
            "Epoch 1/12\n",
            "500/500 [==============================] - 289s 485ms/step - loss: 1.2465 - accuracy: 0.5138\n",
            "Epoch 2/12\n",
            "500/500 [==============================] - 241s 482ms/step - loss: 0.5321 - accuracy: 0.8115\n",
            "Epoch 3/12\n",
            "500/500 [==============================] - 238s 476ms/step - loss: 0.2803 - accuracy: 0.9056\n",
            "Epoch 4/12\n",
            "500/500 [==============================] - 239s 478ms/step - loss: 0.1961 - accuracy: 0.9278\n",
            "Epoch 5/12\n",
            "500/500 [==============================] - 240s 480ms/step - loss: 0.1533 - accuracy: 0.9438\n",
            "Epoch 6/12\n",
            "500/500 [==============================] - 242s 484ms/step - loss: 0.1201 - accuracy: 0.9544\n",
            "Epoch 7/12\n",
            "500/500 [==============================] - 239s 477ms/step - loss: 0.1037 - accuracy: 0.9588\n",
            "Epoch 8/12\n",
            "500/500 [==============================] - 238s 476ms/step - loss: 0.0869 - accuracy: 0.9653\n",
            "Epoch 9/12\n",
            "500/500 [==============================] - 238s 476ms/step - loss: 0.0822 - accuracy: 0.9668\n",
            "Epoch 10/12\n",
            "500/500 [==============================] - 237s 473ms/step - loss: 0.0699 - accuracy: 0.9727\n",
            "Epoch 11/12\n",
            "500/500 [==============================] - 233s 466ms/step - loss: 0.0674 - accuracy: 0.9749\n",
            "Epoch 12/12\n",
            "500/500 [==============================] - 237s 474ms/step - loss: 0.0597 - accuracy: 0.9756\n"
          ]
        }
      ]
    },
    {
      "cell_type": "code",
      "metadata": {
        "id": "gcnvZRP-z2Ma"
      },
      "source": [
        "model.save('Method_2.h5')\n",
        "model.save_weights('Method__2.h5')"
      ],
      "execution_count": 151,
      "outputs": []
    },
    {
      "cell_type": "code",
      "metadata": {
        "id": "ctGobIUBkZsT"
      },
      "source": [
        "X_test=df_test['Text']\n",
        "Y_test=df_test.Sentiment.replace({'joy':0,'anger':1,'love':2,'sadness':3,'fear':4,'surprise':5})"
      ],
      "execution_count": 153,
      "outputs": []
    },
    {
      "cell_type": "code",
      "metadata": {
        "id": "ibyY0u3qkbT-"
      },
      "source": [
        "X_test_f=tokenizer.texts_to_sequences(X_test)\n",
        "X_test_pad=pad_sequences(X_test_f,maxlen=80,padding='post')"
      ],
      "execution_count": 154,
      "outputs": []
    },
    {
      "cell_type": "code",
      "metadata": {
        "id": "dJm57VW4kcox"
      },
      "source": [
        "Y_test_f = to_categorical(Y_test)"
      ],
      "execution_count": 155,
      "outputs": []
    },
    {
      "cell_type": "code",
      "metadata": {
        "colab": {
          "base_uri": "https://localhost:8080/"
        },
        "id": "u5LYymuRkgsM",
        "outputId": "4b7c5ec3-1724-4c49-e7e2-da650b2b70a4"
      },
      "source": [
        "model.evaluate(X_test_pad,Y_test_f)"
      ],
      "execution_count": 157,
      "outputs": [
        {
          "output_type": "stream",
          "name": "stdout",
          "text": [
            "63/63 [==============================] - 11s 149ms/step - loss: 0.2078 - accuracy: 0.9305\n"
          ]
        },
        {
          "output_type": "execute_result",
          "data": {
            "text/plain": [
              "[0.2077958583831787, 0.9304999709129333]"
            ]
          },
          "metadata": {},
          "execution_count": 157
        }
      ]
    },
    {
      "cell_type": "code",
      "metadata": {
        "id": "SuHE69bukkaO"
      },
      "source": [
        "Y_pred = model.predict(X_test_pad) \n",
        "Y_pred = np.argmax(Y_pred,axis=1)"
      ],
      "execution_count": 158,
      "outputs": []
    },
    {
      "cell_type": "code",
      "metadata": {
        "colab": {
          "base_uri": "https://localhost:8080/",
          "height": 312
        },
        "id": "s8OnjVjYkl9u",
        "outputId": "f3333e12-20f3-43b9-c938-a5c474cd1231"
      },
      "source": [
        "plot_confusion_matrix(Y_test,Y_pred)"
      ],
      "execution_count": 159,
      "outputs": [
        {
          "output_type": "execute_result",
          "data": {
            "text/plain": [
              "<matplotlib.axes._subplots.AxesSubplot at 0x7fcbd13170d0>"
            ]
          },
          "metadata": {},
          "execution_count": 159
        },
        {
          "output_type": "display_data",
          "data": {
            "image/png": "[encoded data removed]",
            "text/plain": [
              "<Figure size 432x288 with 2 Axes>"
            ]
          },
          "metadata": {
            "needs_background": "light"
          }
        }
      ]
    },
    {
      "cell_type": "code",
      "metadata": {
        "colab": {
          "base_uri": "https://localhost:8080/"
        },
        "id": "Nq1teqdPkqhc",
        "outputId": "f577fea1-d8fa-4653-e3bc-66e02161c744"
      },
      "source": [
        "print(classification_report(Y_test,Y_pred))"
      ],
      "execution_count": 160,
      "outputs": [
        {
          "output_type": "stream",
          "name": "stdout",
          "text": [
            "              precision    recall  f1-score   support\n",
            "\n",
            "           0       0.96      0.94      0.95       695\n",
            "           1       0.93      0.93      0.93       275\n",
            "           2       0.80      0.86      0.83       159\n",
            "           3       0.97      0.95      0.96       581\n",
            "           4       0.86      0.96      0.91       224\n",
            "           5       0.92      0.68      0.78        66\n",
            "\n",
            "    accuracy                           0.93      2000\n",
            "   macro avg       0.91      0.89      0.89      2000\n",
            "weighted avg       0.93      0.93      0.93      2000\n",
            "\n"
          ]
        }
      ]
    },
    {
      "cell_type": "code",
      "metadata": {
        "id": "s0TzAKDqksSM"
      },
      "source": [
        "def get_key(value):\n",
        "  dictionary = {'joy': 0, 'anger': 1, 'love': 2, 'sadness': 3, 'fear': 4, 'surprise': 5}\n",
        "  for i, j in dictionary.items():\n",
        "    if (j == value):\n",
        "      return i"
      ],
      "execution_count": 213,
      "outputs": []
    },
    {
      "cell_type": "code",
      "metadata": {
        "id": "7J0a7gbpkvex"
      },
      "source": [
        "def predict(sentence):\n",
        "  sentence_lst = []\n",
        "  sentence_lst.append(sentence)\n",
        "  sentence_seq = tokenizer.texts_to_sequences(sentence_lst)\n",
        "  sentence_padded = pad_sequences(sentence_seq,maxlen=80,padding='post')\n",
        "  predicted = model.predict(sentence_padded) \n",
        "  predicted = np.argmax(predicted, axis=1)\n",
        "  result = get_key(predicted)\n",
        "  return result"
      ],
      "execution_count": 214,
      "outputs": []
    },
    {
      "cell_type": "code",
      "metadata": {
        "colab": {
          "base_uri": "https://localhost:8080/"
        },
        "id": "wyPd8T9G4s4Y",
        "outputId": "61f9616e-f07c-4b09-97dc-393ec8bdfa12"
      },
      "source": [
        "from IPython.display import clear_output\n",
        "client = Client('TWILIO SID', 'TWILIO AUTH TOKEN')\n",
        "input_sentiment = input(\"Hi :) How are you feeling today ? \")\n",
        "result = predict(input_sentiment)\n",
        "if result == \"anger\" or result == \"sadness\" or result == \"fear\":\n",
        "  print(\"Hey there, I am here for you. Everyone has a hard time in their life at some point or the other but be assured that there is always hope. Things get better with time.\")\n",
        "  assistance = input(\"Do you need any assistance ?\")\n",
        "  if assistance == \"N\" or assistance == \"No\" or assistance == \"no\" or assistance == \"n\":\n",
        "    print(\"Bye bye friend!, be assured that I am here to talk to you whenever you need me\")\n",
        "  elif assistance == \"Yes\" or assistance == \"Y\" or assistance == 'y' or assistance == 'yes' :\n",
        "    print(\"How can I help you ?\")\n",
        "    print(\"\\n\")\n",
        "    print(\"1. Do you want to get a motivation text message ?\")\n",
        "    print(\"2. Do want to talk to someone to share your feelings with ?\")\n",
        "    response = input()\n",
        "    if response == \"1\":\n",
        "      msg = client.messages.create(to = 'YOUR NUM', from_= '+17174821114',body = 'Losing does not make you weak. It is more like a challenge whether one can stand up or not. So never give up.')\n",
        "      print(msg.sid)\n",
        "    elif response == \"2\":\n",
        "      call = client.calls.create(url='http://demo.twilio.com/docs/voice.xml', to = 'YOUR NUM', from_= '+17174821114')\n",
        "      print(call.sid)\n",
        "else:\n",
        "  print(\"Oh it seems you are happy !! Bye Bye friend, be assured that I am here to talk to you whenever you need me\")"
      ],
      "execution_count": 220,
      "outputs": [
        {
          "output_type": "stream",
          "name": "stdout",
          "text": [
            "Hi :) How are you feeling today ? alone\n",
            "Hey there, I am here for you. Everyone has a hard time in their life at some point or the other but be assured that there is always hope. Things get better with time.\n",
            "Do you need any assistance ?yes\n",
            "How can I help you ?\n",
            "\n",
            "\n",
            "1. Do you want to get a motivation text message ?\n",
            "2. Do want to talk to someone to share your feelings with ?\n",
            "2\n",
            "CAe4dbde02ca43e9c2c9d3b092c640532d\n"
          ]
        }
      ]
    }
  ]
}